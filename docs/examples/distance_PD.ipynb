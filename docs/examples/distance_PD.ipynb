{
 "cells": [
  {
   "cell_type": "markdown",
   "id": "7ae5efe6",
   "metadata": {},
   "source": [
    "# Distance on Persistent Diagrams\n",
    "\n",
    "There are two distances on persistent diagrams supported by `torch-tda`. They are Wasserstein and Bottleneck distance."
   ]
  },
  {
   "cell_type": "markdown",
   "id": "0e7c1242",
   "metadata": {},
   "source": [
    "## Bottleneck"
   ]
  },
  {
   "cell_type": "code",
   "execution_count": 11,
   "id": "c49db261",
   "metadata": {},
   "outputs": [],
   "source": [
    "from torch_tda.nn import BottleneckLayerHera\n",
    "import torch\n",
    "from torch_tda.nn import RipsLayer\n",
    "import numpy as np\n",
    "import bats\n",
    "\n",
    "def compute_bot_dist_b0_b1(X,Y):\n",
    "    X = np.array(X, order = 'c') # necessary!!! If you data is not stored in C style\n",
    "    Y = np.array(Y, order = 'c')\n",
    "    \n",
    "    # compute PH\n",
    "    flags = (bats.standard_reduction_flag(),bats.compression_flag())\n",
    "    layer = RipsLayer(maxdim=1, reduction_flags=flags)\n",
    "    Xt = torch.tensor(X, dtype=torch.double)\n",
    "    Yt = torch.tensor(Y, dtype=torch.double)\n",
    "    X_dgm = layer(Xt)\n",
    "    Y_dgm = layer(Yt)\n",
    "    \n",
    "    # find bottleneck distance by Hera\n",
    "    crit = BottleneckLayerHera()\n",
    "    bd0 = crit(Y_dgm[0], X_dgm[0])\n",
    "    bd1 = crit(Y_dgm[1], X_dgm[1])\n",
    "    \n",
    "    return bd0.detach().numpy().item(), bd1.detach().numpy().item()"
   ]
  },
  {
   "cell_type": "code",
   "execution_count": 12,
   "id": "f6bdda65",
   "metadata": {},
   "outputs": [
    {
     "data": {
      "text/plain": [
       "(0.7630672608576625, 0.5585602944591721)"
      ]
     },
     "execution_count": 12,
     "metadata": {},
     "output_type": "execute_result"
    }
   ],
   "source": [
    "X = np.random.randn(50,3)\n",
    "Y = np.random.randn(50,3)\n",
    "bd0, bd1 = compute_bot_dist_b0_b1(X,Y)\n",
    "bd0, bd1"
   ]
  },
  {
   "cell_type": "markdown",
   "id": "76b0a77c",
   "metadata": {},
   "source": [
    "## Wasserstein"
   ]
  },
  {
   "cell_type": "markdown",
   "id": "d8c5394b",
   "metadata": {},
   "source": [
    "Coming soon!"
   ]
  }
 ],
 "metadata": {
  "kernelspec": {
   "display_name": "Python 3 (ipykernel)",
   "language": "python",
   "name": "python3"
  },
  "language_info": {
   "codemirror_mode": {
    "name": "ipython",
    "version": 3
   },
   "file_extension": ".py",
   "mimetype": "text/x-python",
   "name": "python",
   "nbconvert_exporter": "python",
   "pygments_lexer": "ipython3",
   "version": "3.9.7"
  }
 },
 "nbformat": 4,
 "nbformat_minor": 5
}
